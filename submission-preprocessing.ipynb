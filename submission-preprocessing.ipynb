{
 "cells": [
  {
   "cell_type": "code",
   "execution_count": 28,
   "metadata": {},
   "outputs": [],
   "source": [
    "import pandas as pd\n",
    "import numpy as np\n",
    "from pathlib import Path\n",
    "import re\n",
    "import shutil\n",
    "from tqdm import tqdm"
   ]
  },
  {
   "cell_type": "code",
   "execution_count": 8,
   "metadata": {},
   "outputs": [],
   "source": [
    "submission_files = list(Path().glob('submission-raw-*.csv'))"
   ]
  },
  {
   "cell_type": "code",
   "execution_count": 9,
   "metadata": {},
   "outputs": [],
   "source": [
    "csv = pd.read_csv(submission_files[0])"
   ]
  },
  {
   "cell_type": "code",
   "execution_count": 12,
   "metadata": {},
   "outputs": [
    {
     "data": {
      "text/plain": [
       "True"
      ]
     },
     "execution_count": 12,
     "metadata": {},
     "output_type": "execute_result"
    }
   ],
   "source": [
    "csv['0'][0][0] == 't'"
   ]
  },
  {
   "cell_type": "code",
   "execution_count": 22,
   "metadata": {},
   "outputs": [],
   "source": [
    "digits = {'id': []}\n",
    "digits.update({str(i): [] for i in range(10)})\n",
    "\n",
    "for _, row in csv.iterrows():\n",
    "    digits['id'].append(row['id'])\n",
    "    for i, text in enumerate(row[1:]):\n",
    "        value = float(re.search('tensor\\\\((-?\\\\d+\\\\.\\\\d+)', text).groups()[0])\n",
    "        digits[str(i)].append(value)"
   ]
  },
  {
   "cell_type": "code",
   "execution_count": 24,
   "metadata": {},
   "outputs": [],
   "source": [
    "digits = pd.DataFrame(digits)"
   ]
  },
  {
   "cell_type": "code",
   "execution_count": 25,
   "metadata": {},
   "outputs": [
    {
     "data": {
      "text/html": [
       "<div>\n",
       "<style scoped>\n",
       "    .dataframe tbody tr th:only-of-type {\n",
       "        vertical-align: middle;\n",
       "    }\n",
       "\n",
       "    .dataframe tbody tr th {\n",
       "        vertical-align: top;\n",
       "    }\n",
       "\n",
       "    .dataframe thead th {\n",
       "        text-align: right;\n",
       "    }\n",
       "</style>\n",
       "<table border=\"1\" class=\"dataframe\">\n",
       "  <thead>\n",
       "    <tr style=\"text-align: right;\">\n",
       "      <th></th>\n",
       "      <th>id</th>\n",
       "      <th>0</th>\n",
       "      <th>1</th>\n",
       "      <th>2</th>\n",
       "      <th>3</th>\n",
       "      <th>4</th>\n",
       "      <th>5</th>\n",
       "      <th>6</th>\n",
       "      <th>7</th>\n",
       "      <th>8</th>\n",
       "      <th>9</th>\n",
       "    </tr>\n",
       "  </thead>\n",
       "  <tbody>\n",
       "    <tr>\n",
       "      <th>0</th>\n",
       "      <td>2049</td>\n",
       "      <td>-1.7960</td>\n",
       "      <td>-4.2461</td>\n",
       "      <td>2.2015</td>\n",
       "      <td>-2.9521</td>\n",
       "      <td>-0.3769</td>\n",
       "      <td>2.5026</td>\n",
       "      <td>10.9224</td>\n",
       "      <td>-7.9368</td>\n",
       "      <td>1.5511</td>\n",
       "      <td>-6.0359</td>\n",
       "    </tr>\n",
       "    <tr>\n",
       "      <th>1</th>\n",
       "      <td>2050</td>\n",
       "      <td>-1.3242</td>\n",
       "      <td>-4.6948</td>\n",
       "      <td>-5.8026</td>\n",
       "      <td>1.0881</td>\n",
       "      <td>-2.6814</td>\n",
       "      <td>-0.4458</td>\n",
       "      <td>-4.6903</td>\n",
       "      <td>-1.6659</td>\n",
       "      <td>3.2644</td>\n",
       "      <td>8.2123</td>\n",
       "    </tr>\n",
       "    <tr>\n",
       "      <th>2</th>\n",
       "      <td>2051</td>\n",
       "      <td>-3.1877</td>\n",
       "      <td>-1.6604</td>\n",
       "      <td>0.3791</td>\n",
       "      <td>4.2509</td>\n",
       "      <td>-2.3908</td>\n",
       "      <td>-1.5318</td>\n",
       "      <td>-3.5207</td>\n",
       "      <td>0.3390</td>\n",
       "      <td>1.5944</td>\n",
       "      <td>-0.0219</td>\n",
       "    </tr>\n",
       "    <tr>\n",
       "      <th>3</th>\n",
       "      <td>2052</td>\n",
       "      <td>11.9298</td>\n",
       "      <td>-5.7249</td>\n",
       "      <td>-4.1765</td>\n",
       "      <td>-1.2835</td>\n",
       "      <td>-3.5485</td>\n",
       "      <td>-1.0389</td>\n",
       "      <td>-2.9554</td>\n",
       "      <td>0.1411</td>\n",
       "      <td>-1.8064</td>\n",
       "      <td>0.0531</td>\n",
       "    </tr>\n",
       "    <tr>\n",
       "      <th>4</th>\n",
       "      <td>2053</td>\n",
       "      <td>-3.6230</td>\n",
       "      <td>-3.7626</td>\n",
       "      <td>0.2950</td>\n",
       "      <td>14.2909</td>\n",
       "      <td>-4.9273</td>\n",
       "      <td>-0.7095</td>\n",
       "      <td>-7.1014</td>\n",
       "      <td>-1.3415</td>\n",
       "      <td>-2.3861</td>\n",
       "      <td>-1.9023</td>\n",
       "    </tr>\n",
       "    <tr>\n",
       "      <th>...</th>\n",
       "      <td>...</td>\n",
       "      <td>...</td>\n",
       "      <td>...</td>\n",
       "      <td>...</td>\n",
       "      <td>...</td>\n",
       "      <td>...</td>\n",
       "      <td>...</td>\n",
       "      <td>...</td>\n",
       "      <td>...</td>\n",
       "      <td>...</td>\n",
       "      <td>...</td>\n",
       "    </tr>\n",
       "    <tr>\n",
       "      <th>20475</th>\n",
       "      <td>22524</td>\n",
       "      <td>-0.6896</td>\n",
       "      <td>-1.9558</td>\n",
       "      <td>-2.7908</td>\n",
       "      <td>-2.5582</td>\n",
       "      <td>11.5616</td>\n",
       "      <td>-4.8629</td>\n",
       "      <td>-1.8971</td>\n",
       "      <td>-2.4197</td>\n",
       "      <td>-2.3809</td>\n",
       "      <td>0.9514</td>\n",
       "    </tr>\n",
       "    <tr>\n",
       "      <th>20476</th>\n",
       "      <td>22525</td>\n",
       "      <td>-5.8777</td>\n",
       "      <td>10.6261</td>\n",
       "      <td>-3.0872</td>\n",
       "      <td>-1.8832</td>\n",
       "      <td>-0.8319</td>\n",
       "      <td>-2.1082</td>\n",
       "      <td>-0.5281</td>\n",
       "      <td>1.9100</td>\n",
       "      <td>-0.5391</td>\n",
       "      <td>-0.9140</td>\n",
       "    </tr>\n",
       "    <tr>\n",
       "      <th>20477</th>\n",
       "      <td>22526</td>\n",
       "      <td>1.7049</td>\n",
       "      <td>-3.8166</td>\n",
       "      <td>-1.1599</td>\n",
       "      <td>-4.0784</td>\n",
       "      <td>-0.5299</td>\n",
       "      <td>2.5074</td>\n",
       "      <td>10.4421</td>\n",
       "      <td>-6.3549</td>\n",
       "      <td>-0.5464</td>\n",
       "      <td>-2.6908</td>\n",
       "    </tr>\n",
       "    <tr>\n",
       "      <th>20478</th>\n",
       "      <td>22527</td>\n",
       "      <td>-5.0506</td>\n",
       "      <td>-1.2242</td>\n",
       "      <td>0.4710</td>\n",
       "      <td>5.6553</td>\n",
       "      <td>-2.7747</td>\n",
       "      <td>-2.1885</td>\n",
       "      <td>-2.3299</td>\n",
       "      <td>-4.6113</td>\n",
       "      <td>6.1689</td>\n",
       "      <td>-2.3819</td>\n",
       "    </tr>\n",
       "    <tr>\n",
       "      <th>20479</th>\n",
       "      <td>22528</td>\n",
       "      <td>8.5925</td>\n",
       "      <td>-4.9542</td>\n",
       "      <td>-2.5100</td>\n",
       "      <td>-3.7807</td>\n",
       "      <td>-0.5860</td>\n",
       "      <td>1.2194</td>\n",
       "      <td>3.8115</td>\n",
       "      <td>-2.9096</td>\n",
       "      <td>-2.8207</td>\n",
       "      <td>-2.2528</td>\n",
       "    </tr>\n",
       "  </tbody>\n",
       "</table>\n",
       "<p>20480 rows × 11 columns</p>\n",
       "</div>"
      ],
      "text/plain": [
       "          id        0        1       2        3        4       5        6  \\\n",
       "0       2049  -1.7960  -4.2461  2.2015  -2.9521  -0.3769  2.5026  10.9224   \n",
       "1       2050  -1.3242  -4.6948 -5.8026   1.0881  -2.6814 -0.4458  -4.6903   \n",
       "2       2051  -3.1877  -1.6604  0.3791   4.2509  -2.3908 -1.5318  -3.5207   \n",
       "3       2052  11.9298  -5.7249 -4.1765  -1.2835  -3.5485 -1.0389  -2.9554   \n",
       "4       2053  -3.6230  -3.7626  0.2950  14.2909  -4.9273 -0.7095  -7.1014   \n",
       "...      ...      ...      ...     ...      ...      ...     ...      ...   \n",
       "20475  22524  -0.6896  -1.9558 -2.7908  -2.5582  11.5616 -4.8629  -1.8971   \n",
       "20476  22525  -5.8777  10.6261 -3.0872  -1.8832  -0.8319 -2.1082  -0.5281   \n",
       "20477  22526   1.7049  -3.8166 -1.1599  -4.0784  -0.5299  2.5074  10.4421   \n",
       "20478  22527  -5.0506  -1.2242  0.4710   5.6553  -2.7747 -2.1885  -2.3299   \n",
       "20479  22528   8.5925  -4.9542 -2.5100  -3.7807  -0.5860  1.2194   3.8115   \n",
       "\n",
       "            7       8       9  \n",
       "0     -7.9368  1.5511 -6.0359  \n",
       "1     -1.6659  3.2644  8.2123  \n",
       "2      0.3390  1.5944 -0.0219  \n",
       "3      0.1411 -1.8064  0.0531  \n",
       "4     -1.3415 -2.3861 -1.9023  \n",
       "...       ...     ...     ...  \n",
       "20475 -2.4197 -2.3809  0.9514  \n",
       "20476  1.9100 -0.5391 -0.9140  \n",
       "20477 -6.3549 -0.5464 -2.6908  \n",
       "20478 -4.6113  6.1689 -2.3819  \n",
       "20479 -2.9096 -2.8207 -2.2528  \n",
       "\n",
       "[20480 rows x 11 columns]"
      ]
     },
     "execution_count": 25,
     "metadata": {},
     "output_type": "execute_result"
    }
   ],
   "source": [
    "digits"
   ]
  },
  {
   "cell_type": "code",
   "execution_count": 27,
   "metadata": {},
   "outputs": [],
   "source": [
    "prep_dir = Path('prep1')"
   ]
  },
  {
   "cell_type": "code",
   "execution_count": 32,
   "metadata": {},
   "outputs": [
    {
     "name": "stderr",
     "output_type": "stream",
     "text": [
      "100%|██████████| 18/18 [00:26<00:00,  1.48s/it]\n"
     ]
    }
   ],
   "source": [
    "for submission_file in tqdm(submission_files):\n",
    "    csv = pd.read_csv(submission_file)\n",
    "    if type(csv['0'][0]) is str:\n",
    "        digits = {'id': []}\n",
    "        digits.update({str(i): [] for i in range(10)})\n",
    "\n",
    "        for _, row in csv.iterrows():\n",
    "            digits['id'].append(row['id'])\n",
    "            for i, text in enumerate(row[1:]):\n",
    "                value = float(re.search('tensor\\\\((-?\\\\d+\\\\.\\\\d*)', text).groups()[0])\n",
    "                digits[str(i)].append(value)\n",
    "        csv = pd.DataFrame(digits)\n",
    "    csv.to_csv(prep_dir / submission_file, index=False)"
   ]
  },
  {
   "cell_type": "code",
   "execution_count": 31,
   "metadata": {},
   "outputs": [
    {
     "data": {
      "text/plain": [
       "\"tensor(-3., device='cuda:0')\""
      ]
     },
     "execution_count": 31,
     "metadata": {},
     "output_type": "execute_result"
    }
   ],
   "source": [
    "text"
   ]
  }
 ],
 "metadata": {
  "kernelspec": {
   "display_name": "torch",
   "language": "python",
   "name": "torch"
  },
  "language_info": {
   "codemirror_mode": {
    "name": "ipython",
    "version": 3
   },
   "file_extension": ".py",
   "mimetype": "text/x-python",
   "name": "python",
   "nbconvert_exporter": "python",
   "pygments_lexer": "ipython3",
   "version": "3.7.7"
  }
 },
 "nbformat": 4,
 "nbformat_minor": 4
}
