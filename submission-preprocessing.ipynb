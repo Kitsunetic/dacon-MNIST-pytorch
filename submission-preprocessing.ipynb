{
 "cells": [
  {
   "cell_type": "code",
   "execution_count": 1,
   "metadata": {},
   "outputs": [],
   "source": [
    "import pandas as pd\n",
    "import numpy as np\n",
    "from pathlib import Path\n",
    "import re\n",
    "import shutil\n",
    "from tqdm import tqdm"
   ]
  },
  {
   "cell_type": "code",
   "execution_count": 2,
   "metadata": {},
   "outputs": [],
   "source": [
    "submission_files = list(Path('submissions').glob('submission-raw-*.csv'))"
   ]
  },
  {
   "cell_type": "code",
   "execution_count": 6,
   "metadata": {},
   "outputs": [
    {
     "data": {
      "text/plain": [
       "[PosixPath('submissions/submission-raw-L3602-0.1324586495757103.csv'),\n",
       " PosixPath('submissions/submission-raw-L3002-0.18245945125818253.csv'),\n",
       " PosixPath('submissions/submission-raw-L3702-0.15976738495131335.csv'),\n",
       " PosixPath('submissions/submission-raw-L3403-0.1779718305915594.csv'),\n",
       " PosixPath('submissions/submission-raw-L3303-0.15309729054570198.csv'),\n",
       " PosixPath('submissions/submission-raw-L3202-0.19573017954826355.csv'),\n",
       " PosixPath('submissions/submission-raw-L3102-0.20729640126228333.csv')]"
      ]
     },
     "execution_count": 6,
     "metadata": {},
     "output_type": "execute_result"
    }
   ],
   "source": [
    "submission_files"
   ]
  },
  {
   "cell_type": "code",
   "execution_count": 7,
   "metadata": {},
   "outputs": [],
   "source": [
    "prep_dir = Path('submissions/prep1')"
   ]
  },
  {
   "cell_type": "code",
   "execution_count": 9,
   "metadata": {},
   "outputs": [
    {
     "name": "stderr",
     "output_type": "stream",
     "text": [
      "100%|██████████| 7/7 [00:12<00:00,  1.80s/it]\n"
     ]
    }
   ],
   "source": [
    "for submission_file in tqdm(submission_files):\n",
    "    csv = pd.read_csv(submission_file)\n",
    "    if type(csv['0'][0]) is str:\n",
    "        digits = {'id': []}\n",
    "        digits.update({str(i): [] for i in range(10)})\n",
    "\n",
    "        for _, row in csv.iterrows():\n",
    "            digits['id'].append(row['id'])\n",
    "            for i, text in enumerate(row[1:]):\n",
    "                value = float(re.search('tensor\\\\((-?\\\\d+\\\\.\\\\d*)', text).groups()[0])\n",
    "                digits[str(i)].append(value)\n",
    "        csv = pd.DataFrame(digits)\n",
    "    csv.to_csv(prep_dir / submission_file.name, index=False)"
   ]
  }
 ],
 "metadata": {
  "kernelspec": {
   "display_name": "torch",
   "language": "python",
   "name": "torch"
  },
  "language_info": {
   "codemirror_mode": {
    "name": "ipython",
    "version": 3
   },
   "file_extension": ".py",
   "mimetype": "text/x-python",
   "name": "python",
   "nbconvert_exporter": "python",
   "pygments_lexer": "ipython3",
   "version": "3.7.7"
  }
 },
 "nbformat": 4,
 "nbformat_minor": 4
}
