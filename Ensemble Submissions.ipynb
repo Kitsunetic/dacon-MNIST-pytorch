{
 "cells": [
  {
   "cell_type": "code",
   "execution_count": 45,
   "metadata": {},
   "outputs": [],
   "source": [
    "import pandas as pd\n",
    "import numpy as np\n",
    "from pathlib import Path\n",
    "import re\n",
    "import collections"
   ]
  },
  {
   "cell_type": "code",
   "execution_count": 2,
   "metadata": {},
   "outputs": [],
   "source": [
    "csv_files = list(Path('submissions').glob('submission-*.csv'))"
   ]
  },
  {
   "cell_type": "code",
   "execution_count": 19,
   "metadata": {},
   "outputs": [],
   "source": [
    "csvs = []\n",
    "for f in csv_files:\n",
    "    csv = pd.read_csv(f)\n",
    "    csvs.append(csv)"
   ]
  },
  {
   "cell_type": "code",
   "execution_count": 26,
   "metadata": {},
   "outputs": [],
   "source": [
    "id = []\n",
    "for _, row in csvs[0].iterrows():\n",
    "    id.append(row['id'])"
   ]
  },
  {
   "cell_type": "code",
   "execution_count": 41,
   "metadata": {},
   "outputs": [],
   "source": [
    "digits = []\n",
    "for csv in csvs:\n",
    "    digit = []\n",
    "    for _, row in csv.iterrows():\n",
    "        digit.append(row['digit'])\n",
    "    digits.append(digit)"
   ]
  },
  {
   "cell_type": "code",
   "execution_count": null,
   "metadata": {},
   "outputs": [],
   "source": [
    "def best_one(s):\n",
    "    "
   ]
  },
  {
   "cell_type": "code",
   "execution_count": 49,
   "metadata": {},
   "outputs": [],
   "source": [
    "new_digit = []\n",
    "for i in range(len(digits[0])):\n",
    "    s = []\n",
    "    for j in range(len(digits)):\n",
    "        s.append(digits[j][i])\n",
    "    \n",
    "    counter = collections.Counter(s)\n",
    "    max_v, max_k = 0, 0\n",
    "    for k in counter.keys():\n",
    "        if max_v < counter[k]:\n",
    "            max_v = counter[k]\n",
    "            max_k = k\n",
    "    new_digit.append(max_k)"
   ]
  },
  {
   "cell_type": "code",
   "execution_count": 52,
   "metadata": {},
   "outputs": [],
   "source": [
    "new_csv = pd.DataFrame({'id': id, 'digit': new_digit})"
   ]
  },
  {
   "cell_type": "code",
   "execution_count": 54,
   "metadata": {},
   "outputs": [],
   "source": [
    "new_csv.to_csv('submissions/ensemble-0119-2147-2150-2157-2158.csv', index=None)"
   ]
  },
  {
   "cell_type": "code",
   "execution_count": null,
   "metadata": {},
   "outputs": [],
   "source": []
  }
 ],
 "metadata": {
  "kernelspec": {
   "display_name": "torch",
   "language": "python",
   "name": "torch"
  },
  "language_info": {
   "codemirror_mode": {
    "name": "ipython",
    "version": 3
   },
   "file_extension": ".py",
   "mimetype": "text/x-python",
   "name": "python",
   "nbconvert_exporter": "python",
   "pygments_lexer": "ipython3",
   "version": "3.7.7"
  }
 },
 "nbformat": 4,
 "nbformat_minor": 4
}
